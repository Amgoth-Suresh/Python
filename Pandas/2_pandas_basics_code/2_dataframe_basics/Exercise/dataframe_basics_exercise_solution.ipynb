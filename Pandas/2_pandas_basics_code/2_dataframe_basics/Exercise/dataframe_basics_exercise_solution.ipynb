version https://git-lfs.github.com/spec/v1
oid sha256:047d7315044135cfee773a493c866ec9c9e29074a2cdb78501fcd6bffa19ed5e
size 34424
