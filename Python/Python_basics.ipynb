version https://git-lfs.github.com/spec/v1
oid sha256:b27f89984fb48dbcc76a24b051fec298deacdb5bc5b1bd94a07a3b89bc4d9138
size 1198
