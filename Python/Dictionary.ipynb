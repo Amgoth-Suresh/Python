{
 "cells": [
  {
   "cell_type": "markdown",
   "metadata": {},
   "source": [
    "# **Dictionary in Python**"
   ]
  },
  {
   "cell_type": "markdown",
   "metadata": {},
   "source": [
    "- Dictionaries store data in `key-value` pairs.\n",
    "- They are unordered, meaning the items do not have a defined order.\n",
    "- Dictionaries are mutable, so you can change, add, or remove items after the dictionary has been created.\n",
    "- Keys in dictionaries must be unique and immutable `(e.g., strings, numbers, tuples)`.\n",
    "- Dictionaries are optimized for retrieving values when the key is known.\n",
    "\n"
   ]
  },
  {
   "cell_type": "markdown",
   "metadata": {},
   "source": [
    "Lets Try it\n",
    "\n",
    "and create some dictionary "
   ]
  },
  {
   "cell_type": "code",
   "execution_count": 2,
   "metadata": {},
   "outputs": [
    {
     "name": "stdout",
     "output_type": "stream",
     "text": [
      "{'Germany': 'Free education', 'USA': 'Paid education', 'age': 25, 25: 'Is a number'}\n"
     ]
    }
   ],
   "source": [
    "Dict = {\n",
    "    \"Germany\" : \"Free education\",\n",
    "    \"USA\":\"Paid education\",\n",
    "    \"age\": 25,\n",
    "    25: \"Is a number\",\n",
    "}\n",
    "print(Dict)"
   ]
  },
  {
   "cell_type": "markdown",
   "metadata": {},
   "source": [
    "- we can create and store different type of data (list, tuple, integer, boolean) as Value \n",
    "\n",
    "- We can't make mutable data types as keys example List & dictionary\n",
    "\n",
    "- Keys are immutable\n",
    "\n",
    "- But we can create a key using immutable data types example Tuples\n"
   ]
  },
  {
   "cell_type": "code",
   "execution_count": 3,
   "metadata": {},
   "outputs": [
    {
     "name": "stdout",
     "output_type": "stream",
     "text": [
      "<class 'dict'>\n"
     ]
    }
   ],
   "source": [
    "#lets try to print data type of the dictionary\n",
    "print(type(Dict))"
   ]
  },
  {
   "cell_type": "markdown",
   "metadata": {},
   "source": [
    "---"
   ]
  },
  {
   "cell_type": "markdown",
   "metadata": {},
   "source": [
    "# Dictionaries have some properties\n",
    "- They are unordered this means there is no strict order in the dictionary data type for instance if we consider list, string and tuple they have Indexing which can tell us at what index or position the data is stored as 0, 1, 2 indexes .\n",
    "\n",
    "- But in Dictionaries there is no indexing so there is no fixed order of data in dictionary data type.\n",
    "\n",
    "- They are mutable (changeable )same like list where  we can change the value.\n",
    "\n",
    "- They don't allow duplicate keys meaning we cannot create same key twice we may have different meanings but we cannot have same keys."
   ]
  },
  {
   "cell_type": "code",
   "execution_count": 4,
   "metadata": {},
   "outputs": [
    {
     "name": "stdout",
     "output_type": "stream",
     "text": [
      "Free education\n",
      "Is a number\n"
     ]
    }
   ],
   "source": [
    "# lets try to print the value of the key \"Germany\"\n",
    "# we can do this by using the key in square brackets\n",
    "print(Dict['Germany'])\n",
    "print(Dict[25])"
   ]
  },
  {
   "cell_type": "code",
   "execution_count": 5,
   "metadata": {},
   "outputs": [],
   "source": [
    "#if we want to change the key and assign a new value to it\n",
    "# we can do this by using the key in square brackets and assign a new value to it\n",
    "Dict[\"Germany\"]=\"European Country\""
   ]
  },
  {
   "cell_type": "code",
   "execution_count": 6,
   "metadata": {},
   "outputs": [
    {
     "name": "stdout",
     "output_type": "stream",
     "text": [
      "{'Germany': 'European Country', 'USA': 'Paid education', 'age': 25, 25: 'Is a number'}\n"
     ]
    }
   ],
   "source": [
    "#lets print the dictionary again\n",
    "print(Dict)"
   ]
  },
  {
   "cell_type": "code",
   "execution_count": 7,
   "metadata": {},
   "outputs": [
    {
     "name": "stdout",
     "output_type": "stream",
     "text": [
      "{'Germany': 'European Country', 'USA': 'Paid education', 'age': 25, 25: 'Is a number', 'Bangladesh': 'Is a country'}\n"
     ]
    }
   ],
   "source": [
    "#lets add some new key and value pair in the dictionary data type\n",
    "Dict['Bangladesh']=\"Is a country\"\n",
    "print(Dict)"
   ]
  },
  {
   "cell_type": "markdown",
   "metadata": {},
   "source": [
    "- if we create same key which is already present with different value in it  this will overwrite it and will provide us a new value \n",
    "- We can also create a empyty dictionary "
   ]
  },
  {
   "cell_type": "markdown",
   "metadata": {},
   "source": [
    "---"
   ]
  },
  {
   "cell_type": "markdown",
   "metadata": {},
   "source": [
    "# Nested Dictionary\n",
    "- Nested Dictionary is a dictionary inside a dictionary"
   ]
  },
  {
   "cell_type": "code",
   "execution_count": 8,
   "metadata": {},
   "outputs": [
    {
     "name": "stdout",
     "output_type": "stream",
     "text": [
      "{'Germany': 'Free education', 'USA': 'Paid education', 'age': 25, 25: 'Is a number', 'Bangladesh': {'capital': 'Dhaka', 'population': 160000000, 'language': 'Bangla'}}\n"
     ]
    }
   ],
   "source": [
    "#example of nested dictionary\n",
    "Dict = {\n",
    "    \"Germany\" : \"Free education\",\n",
    "    \"USA\":\"Paid education\",\n",
    "    \"age\": 25,\n",
    "    25: \"Is a number\",\n",
    "    #nested dictionary\n",
    "    \"Bangladesh\": {\n",
    "        \"capital\": \"Dhaka\",\n",
    "        \"population\": 160000000,\n",
    "        \"language\": \"Bangla\",\n",
    "    }\n",
    "}\n",
    "print(Dict)"
   ]
  },
  {
   "cell_type": "markdown",
   "metadata": {},
   "source": [
    "- These are same like nested conditions in if and if else conditional statements\n",
    "\n"
   ]
  },
  {
   "cell_type": "code",
   "execution_count": 9,
   "metadata": {},
   "outputs": [
    {
     "name": "stdout",
     "output_type": "stream",
     "text": [
      "['Bangladesh']\n"
     ]
    }
   ],
   "source": [
    "#so if we want to print the value in nested dictionary we can do that by using the key \n",
    "# of the nested dictionary in square brackets\n",
    "print([\"Bangladesh\"])"
   ]
  },
  {
   "cell_type": "code",
   "execution_count": 10,
   "metadata": {},
   "outputs": [
    {
     "name": "stdout",
     "output_type": "stream",
     "text": [
      "Dhaka\n"
     ]
    }
   ],
   "source": [
    "#we can also print the value in the nested dictionary\n",
    "print(Dict[\"Bangladesh\"][\"capital\"])"
   ]
  },
  {
   "cell_type": "markdown",
   "metadata": {},
   "source": [
    "---"
   ]
  },
  {
   "cell_type": "markdown",
   "metadata": {},
   "source": [
    "# Dictionary Methods\n"
   ]
  },
  {
   "cell_type": "markdown",
   "metadata": {},
   "source": [
    "\n",
    "\n",
    "- `keys()`: Returns a view object that displays a list of all the keys in the dictionary.\n",
    "- `values()`: Returns a view object that displays a list of all the values in the dictionary.\n",
    "- `items()`: Returns a view object that displays a list of dictionary's key-value tuple pairs.\n",
    "- `get(key)`: Returns the value of the specified key. If the key does not exist, it returns `None`.\n",
    "- `update()`: Updates the dictionary with the specified key-value pairs.\n",
    "--"
   ]
  },
  {
   "cell_type": "markdown",
   "metadata": {},
   "source": [
    "\n",
    "\n",
    "- we can return the all keys present in the dictionary by using the following method called **Keys Method**\n",
    "- we can't return the key values of nested dictionary "
   ]
  },
  {
   "cell_type": "code",
   "execution_count": 11,
   "metadata": {},
   "outputs": [
    {
     "name": "stdout",
     "output_type": "stream",
     "text": [
      "dict_keys(['Germany', 'USA', 'age', 25, 'Bangladesh'])\n",
      "5\n"
     ]
    }
   ],
   "source": [
    "print(Dict.keys())\n",
    "#lets try to print the length of the keys in the dictionary\n",
    "\n",
    "print(len(Dict.keys()))"
   ]
  },
  {
   "cell_type": "markdown",
   "metadata": {},
   "source": [
    "- we can also perform same thing to return all values in the dictionary "
   ]
  },
  {
   "cell_type": "code",
   "execution_count": 12,
   "metadata": {},
   "outputs": [
    {
     "name": "stdout",
     "output_type": "stream",
     "text": [
      "dict_values(['Free education', 'Paid education', 25, 'Is a number', {'capital': 'Dhaka', 'population': 160000000, 'language': 'Bangla'}])\n",
      "['Free education', 'Paid education', 25, 'Is a number', {'capital': 'Dhaka', 'population': 160000000, 'language': 'Bangla'}]\n",
      "5\n"
     ]
    }
   ],
   "source": [
    "print(Dict.values())\n",
    "\n",
    "#Here we can also print the values as list  by using the list function called type casting\n",
    "\n",
    "print(list(Dict.values()))\n",
    "\n",
    "#we can also print the length of the values in the dictionary by using the len function\n",
    "\n",
    "print(len(list(Dict.values())))\n",
    "\n",
    "#we used function within the function"
   ]
  },
  {
   "cell_type": "markdown",
   "metadata": {},
   "source": [
    "- In the above example you can see that we printed a dictionary type data within **list**"
   ]
  },
  {
   "cell_type": "markdown",
   "metadata": {},
   "source": [
    "- Another method in dictionary is using **item method**\n",
    "- This will return the dictionary items as tuples pair which are immutable"
   ]
  },
  {
   "cell_type": "code",
   "execution_count": 13,
   "metadata": {},
   "outputs": [
    {
     "name": "stdout",
     "output_type": "stream",
     "text": [
      "dict_items([('Germany', 'Free education'), ('USA', 'Paid education'), ('age', 25), (25, 'Is a number'), ('Bangladesh', {'capital': 'Dhaka', 'population': 160000000, 'language': 'Bangla'})])\n"
     ]
    }
   ],
   "source": [
    "#lets try to print the items in the dictionary\n",
    "\n",
    "print(Dict.items())\n"
   ]
  },
  {
   "cell_type": "code",
   "execution_count": 17,
   "metadata": {},
   "outputs": [
    {
     "name": "stdout",
     "output_type": "stream",
     "text": [
      "[('Germany', 'Free education'), ('USA', 'Paid education'), ('age', 25), (25, 'Is a number'), ('Bangladesh', {'capital': 'Dhaka', 'population': 160000000, 'language': 'Bangla'})]\n"
     ]
    }
   ],
   "source": [
    "\n",
    "#we can also type cast the items in the dictionary as list\n",
    "\n",
    "print(list(Dict.items()))\n"
   ]
  },
  {
   "cell_type": "code",
   "execution_count": 15,
   "metadata": {},
   "outputs": [],
   "source": [
    "\n",
    "#lets assign this to a variable and print the variable\n",
    "\n",
    "items = list(Dict.values())\n"
   ]
  },
  {
   "cell_type": "code",
   "execution_count": 16,
   "metadata": {},
   "outputs": [
    {
     "name": "stdout",
     "output_type": "stream",
     "text": [
      "Free education\n"
     ]
    }
   ],
   "source": [
    "\n",
    "#now we can print our individual items in the list by using the index of the list\n",
    "\n",
    "print(items[0])"
   ]
  },
  {
   "cell_type": "markdown",
   "metadata": {},
   "source": [
    "- There is also a another method Called **get Function()** where it will return the key accoirding to the value "
   ]
  },
  {
   "cell_type": "code",
   "execution_count": 65,
   "metadata": {},
   "outputs": [
    {
     "name": "stdout",
     "output_type": "stream",
     "text": [
      "Is a number\n"
     ]
    }
   ],
   "source": [
    "#lets try this to return a value of a key in the dictionary\n",
    "print(Dict.get(25))\n",
    "\n"
   ]
  },
  {
   "cell_type": "markdown",
   "metadata": {},
   "source": [
    "- if we observe here we could have used **print(Dict[25])** but why get function \n",
    "\n",
    "- get function does not give any errors if we try with **print(Dict[25])** it will create an error if we put some input value wrong "
   ]
  },
  {
   "cell_type": "code",
   "execution_count": null,
   "metadata": {},
   "outputs": [],
   "source": []
  },
  {
   "cell_type": "markdown",
   "metadata": {},
   "source": [
    "- Next Dictionary method is **update method** here we can insert the specified items to the dictionary "
   ]
  },
  {
   "cell_type": "code",
   "execution_count": 66,
   "metadata": {},
   "outputs": [
    {
     "name": "stdout",
     "output_type": "stream",
     "text": [
      "{'name': 'suresh', 'age': 26, 'country': 'India'}\n"
     ]
    }
   ],
   "source": [
    "#lets try to try update method in dictionary\n",
    "#lets say\n",
    "Dict1={\n",
    "    \"name\":\"suresh\",\n",
    "    \"age\":26,\n",
    "}\n",
    "\n",
    "#we can add some other new key and value pair in the dictionary by using the update method\n",
    "\n",
    "Dict1.update({\"country\":\"India\"})\n",
    "\n",
    "print(Dict1)"
   ]
  },
  {
   "cell_type": "code",
   "execution_count": 67,
   "metadata": {},
   "outputs": [
    {
     "name": "stdout",
     "output_type": "stream",
     "text": [
      "{'name': 'suresh', 'age': 24, 'country': 'India', 'Her name': 'Preethi'}\n"
     ]
    }
   ],
   "source": [
    "#we can also merge two dictionaries by using the update method\n",
    "\n",
    "Dict2={\n",
    "    \"Her name\":\"Preethi\",\n",
    "    \"age\":24,\n",
    "}\n",
    "\n",
    "Dict1.update(Dict2)\n",
    "\n",
    "print(Dict1)"
   ]
  },
  {
   "cell_type": "markdown",
   "metadata": {},
   "source": [
    "These are the most common methods used in Dictionary Data type "
   ]
  },
  {
   "cell_type": "markdown",
   "metadata": {},
   "source": [
    "---\n"
   ]
  }
 ],
 "metadata": {
  "kernelspec": {
   "display_name": "Python 3",
   "language": "python",
   "name": "python3"
  },
  "language_info": {
   "codemirror_mode": {
    "name": "ipython",
    "version": 3
   },
   "file_extension": ".py",
   "mimetype": "text/x-python",
   "name": "python",
   "nbconvert_exporter": "python",
   "pygments_lexer": "ipython3",
   "version": "3.11.9"
  }
 },
 "nbformat": 4,
 "nbformat_minor": 2
}
