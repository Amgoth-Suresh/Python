version https://git-lfs.github.com/spec/v1
oid sha256:273b40104d79f21d6b0eea2063da04f95f18ddeb5aa97b0eef9d0277ee29560e
size 12768
