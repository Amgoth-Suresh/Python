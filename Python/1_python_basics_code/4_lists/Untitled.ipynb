version https://git-lfs.github.com/spec/v1
oid sha256:df7533258acb2115ae40e5d295a79b281a9798d3b59225d9e9de71e88acff9f8
size 10177
