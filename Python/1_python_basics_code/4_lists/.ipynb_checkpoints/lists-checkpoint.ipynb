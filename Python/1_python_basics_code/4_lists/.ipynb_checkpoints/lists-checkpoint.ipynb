version https://git-lfs.github.com/spec/v1
oid sha256:a381e1520d37666a53e0caa92702d1265cfd180e5cfa14cb078ab822c6a9cabc
size 10199
