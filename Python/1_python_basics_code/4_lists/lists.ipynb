version https://git-lfs.github.com/spec/v1
oid sha256:a1871e36834483e3b028919fb9430ad2aa0f92720cea1068a56fd8f0ef25d2de
size 11206
