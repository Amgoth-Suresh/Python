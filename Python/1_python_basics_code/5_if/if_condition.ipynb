version https://git-lfs.github.com/spec/v1
oid sha256:27c49d59fd8b9a3e1f79b49f274f60d41be337b0fbb3e77f0352d84a039dcbd9
size 6162
