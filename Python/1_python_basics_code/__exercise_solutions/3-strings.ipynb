version https://git-lfs.github.com/spec/v1
oid sha256:2fde304dfd14d9e391701e59d5c0a300b044709c8f8f0507c7f1ba25f601d532
size 35242
